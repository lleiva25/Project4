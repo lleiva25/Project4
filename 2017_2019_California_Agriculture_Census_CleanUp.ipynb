{
  "nbformat": 4,
  "nbformat_minor": 0,
  "metadata": {
    "colab": {
      "provenance": []
    },
    "kernelspec": {
      "name": "python3",
      "display_name": "Python 3"
    },
    "language_info": {
      "name": "python"
    }
  },
  "cells": [
    {
      "cell_type": "code",
      "execution_count": 1,
      "metadata": {
        "id": "vvpHlECJCngY"
      },
      "outputs": [],
      "source": [
        "import pandas as pd\n",
        "from os import path"
      ]
    },
    {
      "cell_type": "code",
      "source": [
        "#File pathways\n",
        "path_2017 = '/Resources/2017_Census_California.csv'\n",
        "path_2018 = '/Resources/2017_Census_California.csv'\n",
        "path_2019 = '/Recourses/2019California_Agriculture_Statistics_Service.csv'"
      ],
      "metadata": {
        "id": "mA5t7kqMDkvf"
      },
      "execution_count": 2,
      "outputs": []
    },
    {
      "cell_type": "code",
      "source": [
        "#Create a dataframe from the read csv files\n",
        "df_2017 = pd.DataFrame(pd.read_csv(path_2017))\n",
        "df_2018 = pd.DataFrame(pd.read_csv(path_2018))\n",
        "df_2019 = pd.DataFrame(pd.read_csv(path_2019))\n",
        "\n",
        "df_2017.info()"
      ],
      "metadata": {
        "colab": {
          "base_uri": "https://localhost:8080/"
        },
        "id": "Z-bqVXGcDj8v",
        "outputId": "46f4b2a9-ebef-4f51-eb75-32197f6de3d6"
      },
      "execution_count": 3,
      "outputs": [
        {
          "output_type": "stream",
          "name": "stdout",
          "text": [
            "<class 'pandas.core.frame.DataFrame'>\n",
            "RangeIndex: 2140 entries, 0 to 2139\n",
            "Data columns (total 11 columns):\n",
            " #   Column            Non-Null Count  Dtype \n",
            "---  ------            --------------  ----- \n",
            " 0   Year              2140 non-null   int64 \n",
            " 1    Commodity Code   2140 non-null   int64 \n",
            " 2    Crop Name        2140 non-null   object\n",
            " 3    County Code      2140 non-null   int64 \n",
            " 4    County           2140 non-null   object\n",
            " 5    Harvested Acres  2140 non-null   object\n",
            " 6    Yield            2140 non-null   object\n",
            " 7    Production       2140 non-null   object\n",
            " 8    Price P/U        2140 non-null   object\n",
            " 9    Unit             2140 non-null   object\n",
            " 10   Value            2140 non-null   int64 \n",
            "dtypes: int64(4), object(7)\n",
            "memory usage: 184.0+ KB\n"
          ]
        }
      ]
    },
    {
      "cell_type": "code",
      "source": [
        "df_2018.info()"
      ],
      "metadata": {
        "colab": {
          "base_uri": "https://localhost:8080/"
        },
        "id": "sK8EXqF5GETz",
        "outputId": "14eb0bb1-20a0-42af-cea2-1a4ccaf1aec2"
      },
      "execution_count": 4,
      "outputs": [
        {
          "output_type": "stream",
          "name": "stdout",
          "text": [
            "<class 'pandas.core.frame.DataFrame'>\n",
            "RangeIndex: 2140 entries, 0 to 2139\n",
            "Data columns (total 11 columns):\n",
            " #   Column            Non-Null Count  Dtype \n",
            "---  ------            --------------  ----- \n",
            " 0   Year              2140 non-null   int64 \n",
            " 1    Commodity Code   2140 non-null   int64 \n",
            " 2    Crop Name        2140 non-null   object\n",
            " 3    County Code      2140 non-null   int64 \n",
            " 4    County           2140 non-null   object\n",
            " 5    Harvested Acres  2140 non-null   object\n",
            " 6    Yield            2140 non-null   object\n",
            " 7    Production       2140 non-null   object\n",
            " 8    Price P/U        2140 non-null   object\n",
            " 9    Unit             2140 non-null   object\n",
            " 10   Value            2140 non-null   int64 \n",
            "dtypes: int64(4), object(7)\n",
            "memory usage: 184.0+ KB\n"
          ]
        }
      ]
    },
    {
      "cell_type": "code",
      "source": [
        "df_2019.info()"
      ],
      "metadata": {
        "colab": {
          "base_uri": "https://localhost:8080/"
        },
        "id": "ETSMbKp-GEiW",
        "outputId": "82788558-3967-43ac-aab9-24127455fb39"
      },
      "execution_count": 5,
      "outputs": [
        {
          "output_type": "stream",
          "name": "stdout",
          "text": [
            "<class 'pandas.core.frame.DataFrame'>\n",
            "RangeIndex: 2106 entries, 0 to 2105\n",
            "Data columns (total 11 columns):\n",
            " #   Column            Non-Null Count  Dtype \n",
            "---  ------            --------------  ----- \n",
            " 0   Year              2106 non-null   int64 \n",
            " 1    Commodity Code   2106 non-null   int64 \n",
            " 2    Crop Name        2106 non-null   object\n",
            " 3    County Code      2106 non-null   int64 \n",
            " 4    County           2106 non-null   object\n",
            " 5    Harvested Acres  2106 non-null   object\n",
            " 6    Yield            2106 non-null   object\n",
            " 7    Production       2106 non-null   object\n",
            " 8    Price P/U        2106 non-null   object\n",
            " 9    Unit             2106 non-null   object\n",
            " 10   Value            2106 non-null   object\n",
            "dtypes: int64(3), object(8)\n",
            "memory usage: 181.1+ KB\n"
          ]
        }
      ]
    },
    {
      "cell_type": "code",
      "source": [
        "#Merge the data frames into one large dataset\n",
        "df_merge = pd.concat([df_2017, df_2018, df_2019])\n",
        "df_merge.info()"
      ],
      "metadata": {
        "colab": {
          "base_uri": "https://localhost:8080/"
        },
        "id": "uorykbh7GKs0",
        "outputId": "10e2a332-c90e-4eab-89f0-9c94bd74c588"
      },
      "execution_count": 6,
      "outputs": [
        {
          "output_type": "stream",
          "name": "stdout",
          "text": [
            "<class 'pandas.core.frame.DataFrame'>\n",
            "Int64Index: 6386 entries, 0 to 2105\n",
            "Data columns (total 11 columns):\n",
            " #   Column            Non-Null Count  Dtype \n",
            "---  ------            --------------  ----- \n",
            " 0   Year              6386 non-null   int64 \n",
            " 1    Commodity Code   6386 non-null   int64 \n",
            " 2    Crop Name        6386 non-null   object\n",
            " 3    County Code      6386 non-null   int64 \n",
            " 4    County           6386 non-null   object\n",
            " 5    Harvested Acres  6386 non-null   object\n",
            " 6    Yield            6386 non-null   object\n",
            " 7    Production       6386 non-null   object\n",
            " 8    Price P/U        6386 non-null   object\n",
            " 9    Unit             6386 non-null   object\n",
            " 10   Value            6386 non-null   object\n",
            "dtypes: int64(3), object(8)\n",
            "memory usage: 598.7+ KB\n"
          ]
        }
      ]
    },
    {
      "cell_type": "code",
      "source": [
        "#Delete rows that do not have 'Harvested Acres','Yield','Production','Price(P/U)' & 'Unit' information\n",
        "df_merge = df_merge[df_merge[' Harvested Acres'] != '  ']\n",
        "df_merge = df_merge[df_merge[' Yield'] != '  ']\n",
        "df_merge = df_merge[df_merge[' Price P/U'] != '  ']\n",
        "df_merge = df_merge[df_merge[' Unit'] != '    ']\n",
        "df_merge = df_merge[df_merge[' Unit'] != '  ']\n",
        "\n",
        "df_merge.info()"
      ],
      "metadata": {
        "colab": {
          "base_uri": "https://localhost:8080/"
        },
        "id": "97CUOkDRVgar",
        "outputId": "6563df56-1090-40f1-e65f-92cada3dbc86"
      },
      "execution_count": 7,
      "outputs": [
        {
          "output_type": "stream",
          "name": "stdout",
          "text": [
            "<class 'pandas.core.frame.DataFrame'>\n",
            "Int64Index: 2595 entries, 16 to 2086\n",
            "Data columns (total 11 columns):\n",
            " #   Column            Non-Null Count  Dtype \n",
            "---  ------            --------------  ----- \n",
            " 0   Year              2595 non-null   int64 \n",
            " 1    Commodity Code   2595 non-null   int64 \n",
            " 2    Crop Name        2595 non-null   object\n",
            " 3    County Code      2595 non-null   int64 \n",
            " 4    County           2595 non-null   object\n",
            " 5    Harvested Acres  2595 non-null   object\n",
            " 6    Yield            2595 non-null   object\n",
            " 7    Production       2595 non-null   object\n",
            " 8    Price P/U        2595 non-null   object\n",
            " 9    Unit             2595 non-null   object\n",
            " 10   Value            2595 non-null   object\n",
            "dtypes: int64(3), object(8)\n",
            "memory usage: 243.3+ KB\n"
          ]
        }
      ]
    },
    {
      "cell_type": "code",
      "source": [
        "df_merge.columns"
      ],
      "metadata": {
        "colab": {
          "base_uri": "https://localhost:8080/"
        },
        "id": "YQy6BBLZlpzw",
        "outputId": "3b06840b-32a1-4a32-b40b-44753ae31b0c"
      },
      "execution_count": 8,
      "outputs": [
        {
          "output_type": "execute_result",
          "data": {
            "text/plain": [
              "Index(['Year', ' Commodity Code', ' Crop Name', ' County Code', ' County',\n",
              "       ' Harvested Acres', ' Yield', ' Production', ' Price P/U', ' Unit',\n",
              "       ' Value'],\n",
              "      dtype='object')"
            ]
          },
          "metadata": {},
          "execution_count": 8
        }
      ]
    },
    {
      "cell_type": "code",
      "source": [
        "#Delete Non Relevant Columns\n",
        "df_merge = df_merge.drop(columns=[\n",
        "    ' Commodity Code',\n",
        "    ' County',\n",
        "    ' Harvested Acres',\n",
        "    ' Yield'\n",
        "])\n",
        "\n",
        "#Change type to float instead of string\n",
        "df_merge[[' Price P/U',' Production',' Value']] = df_merge[[' Price P/U',' Production',' Value']].astype(float)\n",
        "\n",
        "#Rename Value to Total Value($)\n",
        "df_merge = df_merge.rename(columns={' Value': 'Total Value($)'})\n",
        "\n",
        "#Create a column showing Price per individual labeled as P/I\n",
        "df_merge['Price P/I ($)'] = round(df_merge[' Price P/U']/df_merge[' Production'],2)\n",
        "\n",
        "#Rearrange columns\n",
        "df_merge = df_merge[[\n",
        "    'Year',\n",
        "    ' County Code',\n",
        "    ' Crop Name',\n",
        "    ' Production',\n",
        "    ' Unit',\n",
        "    'Price P/I ($)',\n",
        "    ' Price P/U',\n",
        "    'Total Value($)'\n",
        "]]\n",
        "\n",
        "#See modified dataframe\n",
        "df_merge.head()"
      ],
      "metadata": {
        "colab": {
          "base_uri": "https://localhost:8080/",
          "height": 206
        },
        "id": "zvk1TiuoiSSf",
        "outputId": "c811a87b-5c61-4759-f656-c0589b99c102"
      },
      "execution_count": 9,
      "outputs": [
        {
          "output_type": "execute_result",
          "data": {
            "text/plain": [
              "    Year   County Code     Crop Name   Production   Unit  Price P/I ($)  \\\n",
              "16  2017             7  ALMONDS ALL       29700.0  Tons            0.16   \n",
              "18  2017            11  ALMONDS ALL       64200.0  Tons            0.07   \n",
              "19  2017            19  ALMONDS ALL      258000.0  Tons            0.02   \n",
              "20  2017            21  ALMONDS ALL       44200.0  Tons            0.11   \n",
              "21  2017            29  ALMONDS ALL      264000.0  Tons            0.02   \n",
              "\n",
              "     Price P/U  Total Value($)  \n",
              "16     4653.03    1.381950e+08  \n",
              "18     4785.64    3.072380e+08  \n",
              "19     4526.00    1.167708e+09  \n",
              "20     4912.22    2.171200e+08  \n",
              "21     4676.98    1.234724e+09  "
            ],
            "text/html": [
              "\n",
              "  <div id=\"df-ba21eaab-42f8-42e3-9397-50ca9588b788\" class=\"colab-df-container\">\n",
              "    <div>\n",
              "<style scoped>\n",
              "    .dataframe tbody tr th:only-of-type {\n",
              "        vertical-align: middle;\n",
              "    }\n",
              "\n",
              "    .dataframe tbody tr th {\n",
              "        vertical-align: top;\n",
              "    }\n",
              "\n",
              "    .dataframe thead th {\n",
              "        text-align: right;\n",
              "    }\n",
              "</style>\n",
              "<table border=\"1\" class=\"dataframe\">\n",
              "  <thead>\n",
              "    <tr style=\"text-align: right;\">\n",
              "      <th></th>\n",
              "      <th>Year</th>\n",
              "      <th>County Code</th>\n",
              "      <th>Crop Name</th>\n",
              "      <th>Production</th>\n",
              "      <th>Unit</th>\n",
              "      <th>Price P/I ($)</th>\n",
              "      <th>Price P/U</th>\n",
              "      <th>Total Value($)</th>\n",
              "    </tr>\n",
              "  </thead>\n",
              "  <tbody>\n",
              "    <tr>\n",
              "      <th>16</th>\n",
              "      <td>2017</td>\n",
              "      <td>7</td>\n",
              "      <td>ALMONDS ALL</td>\n",
              "      <td>29700.0</td>\n",
              "      <td>Tons</td>\n",
              "      <td>0.16</td>\n",
              "      <td>4653.03</td>\n",
              "      <td>1.381950e+08</td>\n",
              "    </tr>\n",
              "    <tr>\n",
              "      <th>18</th>\n",
              "      <td>2017</td>\n",
              "      <td>11</td>\n",
              "      <td>ALMONDS ALL</td>\n",
              "      <td>64200.0</td>\n",
              "      <td>Tons</td>\n",
              "      <td>0.07</td>\n",
              "      <td>4785.64</td>\n",
              "      <td>3.072380e+08</td>\n",
              "    </tr>\n",
              "    <tr>\n",
              "      <th>19</th>\n",
              "      <td>2017</td>\n",
              "      <td>19</td>\n",
              "      <td>ALMONDS ALL</td>\n",
              "      <td>258000.0</td>\n",
              "      <td>Tons</td>\n",
              "      <td>0.02</td>\n",
              "      <td>4526.00</td>\n",
              "      <td>1.167708e+09</td>\n",
              "    </tr>\n",
              "    <tr>\n",
              "      <th>20</th>\n",
              "      <td>2017</td>\n",
              "      <td>21</td>\n",
              "      <td>ALMONDS ALL</td>\n",
              "      <td>44200.0</td>\n",
              "      <td>Tons</td>\n",
              "      <td>0.11</td>\n",
              "      <td>4912.22</td>\n",
              "      <td>2.171200e+08</td>\n",
              "    </tr>\n",
              "    <tr>\n",
              "      <th>21</th>\n",
              "      <td>2017</td>\n",
              "      <td>29</td>\n",
              "      <td>ALMONDS ALL</td>\n",
              "      <td>264000.0</td>\n",
              "      <td>Tons</td>\n",
              "      <td>0.02</td>\n",
              "      <td>4676.98</td>\n",
              "      <td>1.234724e+09</td>\n",
              "    </tr>\n",
              "  </tbody>\n",
              "</table>\n",
              "</div>\n",
              "    <div class=\"colab-df-buttons\">\n",
              "\n",
              "  <div class=\"colab-df-container\">\n",
              "    <button class=\"colab-df-convert\" onclick=\"convertToInteractive('df-ba21eaab-42f8-42e3-9397-50ca9588b788')\"\n",
              "            title=\"Convert this dataframe to an interactive table.\"\n",
              "            style=\"display:none;\">\n",
              "\n",
              "  <svg xmlns=\"http://www.w3.org/2000/svg\" height=\"24px\" viewBox=\"0 -960 960 960\">\n",
              "    <path d=\"M120-120v-720h720v720H120Zm60-500h600v-160H180v160Zm220 220h160v-160H400v160Zm0 220h160v-160H400v160ZM180-400h160v-160H180v160Zm440 0h160v-160H620v160ZM180-180h160v-160H180v160Zm440 0h160v-160H620v160Z\"/>\n",
              "  </svg>\n",
              "    </button>\n",
              "\n",
              "  <style>\n",
              "    .colab-df-container {\n",
              "      display:flex;\n",
              "      gap: 12px;\n",
              "    }\n",
              "\n",
              "    .colab-df-convert {\n",
              "      background-color: #E8F0FE;\n",
              "      border: none;\n",
              "      border-radius: 50%;\n",
              "      cursor: pointer;\n",
              "      display: none;\n",
              "      fill: #1967D2;\n",
              "      height: 32px;\n",
              "      padding: 0 0 0 0;\n",
              "      width: 32px;\n",
              "    }\n",
              "\n",
              "    .colab-df-convert:hover {\n",
              "      background-color: #E2EBFA;\n",
              "      box-shadow: 0px 1px 2px rgba(60, 64, 67, 0.3), 0px 1px 3px 1px rgba(60, 64, 67, 0.15);\n",
              "      fill: #174EA6;\n",
              "    }\n",
              "\n",
              "    .colab-df-buttons div {\n",
              "      margin-bottom: 4px;\n",
              "    }\n",
              "\n",
              "    [theme=dark] .colab-df-convert {\n",
              "      background-color: #3B4455;\n",
              "      fill: #D2E3FC;\n",
              "    }\n",
              "\n",
              "    [theme=dark] .colab-df-convert:hover {\n",
              "      background-color: #434B5C;\n",
              "      box-shadow: 0px 1px 3px 1px rgba(0, 0, 0, 0.15);\n",
              "      filter: drop-shadow(0px 1px 2px rgba(0, 0, 0, 0.3));\n",
              "      fill: #FFFFFF;\n",
              "    }\n",
              "  </style>\n",
              "\n",
              "    <script>\n",
              "      const buttonEl =\n",
              "        document.querySelector('#df-ba21eaab-42f8-42e3-9397-50ca9588b788 button.colab-df-convert');\n",
              "      buttonEl.style.display =\n",
              "        google.colab.kernel.accessAllowed ? 'block' : 'none';\n",
              "\n",
              "      async function convertToInteractive(key) {\n",
              "        const element = document.querySelector('#df-ba21eaab-42f8-42e3-9397-50ca9588b788');\n",
              "        const dataTable =\n",
              "          await google.colab.kernel.invokeFunction('convertToInteractive',\n",
              "                                                    [key], {});\n",
              "        if (!dataTable) return;\n",
              "\n",
              "        const docLinkHtml = 'Like what you see? Visit the ' +\n",
              "          '<a target=\"_blank\" href=https://colab.research.google.com/notebooks/data_table.ipynb>data table notebook</a>'\n",
              "          + ' to learn more about interactive tables.';\n",
              "        element.innerHTML = '';\n",
              "        dataTable['output_type'] = 'display_data';\n",
              "        await google.colab.output.renderOutput(dataTable, element);\n",
              "        const docLink = document.createElement('div');\n",
              "        docLink.innerHTML = docLinkHtml;\n",
              "        element.appendChild(docLink);\n",
              "      }\n",
              "    </script>\n",
              "  </div>\n",
              "\n",
              "\n",
              "<div id=\"df-c04bfdc7-d007-4a16-b5ef-28a001493065\">\n",
              "  <button class=\"colab-df-quickchart\" onclick=\"quickchart('df-c04bfdc7-d007-4a16-b5ef-28a001493065')\"\n",
              "            title=\"Suggest charts\"\n",
              "            style=\"display:none;\">\n",
              "\n",
              "<svg xmlns=\"http://www.w3.org/2000/svg\" height=\"24px\"viewBox=\"0 0 24 24\"\n",
              "     width=\"24px\">\n",
              "    <g>\n",
              "        <path d=\"M19 3H5c-1.1 0-2 .9-2 2v14c0 1.1.9 2 2 2h14c1.1 0 2-.9 2-2V5c0-1.1-.9-2-2-2zM9 17H7v-7h2v7zm4 0h-2V7h2v10zm4 0h-2v-4h2v4z\"/>\n",
              "    </g>\n",
              "</svg>\n",
              "  </button>\n",
              "\n",
              "<style>\n",
              "  .colab-df-quickchart {\n",
              "      --bg-color: #E8F0FE;\n",
              "      --fill-color: #1967D2;\n",
              "      --hover-bg-color: #E2EBFA;\n",
              "      --hover-fill-color: #174EA6;\n",
              "      --disabled-fill-color: #AAA;\n",
              "      --disabled-bg-color: #DDD;\n",
              "  }\n",
              "\n",
              "  [theme=dark] .colab-df-quickchart {\n",
              "      --bg-color: #3B4455;\n",
              "      --fill-color: #D2E3FC;\n",
              "      --hover-bg-color: #434B5C;\n",
              "      --hover-fill-color: #FFFFFF;\n",
              "      --disabled-bg-color: #3B4455;\n",
              "      --disabled-fill-color: #666;\n",
              "  }\n",
              "\n",
              "  .colab-df-quickchart {\n",
              "    background-color: var(--bg-color);\n",
              "    border: none;\n",
              "    border-radius: 50%;\n",
              "    cursor: pointer;\n",
              "    display: none;\n",
              "    fill: var(--fill-color);\n",
              "    height: 32px;\n",
              "    padding: 0;\n",
              "    width: 32px;\n",
              "  }\n",
              "\n",
              "  .colab-df-quickchart:hover {\n",
              "    background-color: var(--hover-bg-color);\n",
              "    box-shadow: 0 1px 2px rgba(60, 64, 67, 0.3), 0 1px 3px 1px rgba(60, 64, 67, 0.15);\n",
              "    fill: var(--button-hover-fill-color);\n",
              "  }\n",
              "\n",
              "  .colab-df-quickchart-complete:disabled,\n",
              "  .colab-df-quickchart-complete:disabled:hover {\n",
              "    background-color: var(--disabled-bg-color);\n",
              "    fill: var(--disabled-fill-color);\n",
              "    box-shadow: none;\n",
              "  }\n",
              "\n",
              "  .colab-df-spinner {\n",
              "    border: 2px solid var(--fill-color);\n",
              "    border-color: transparent;\n",
              "    border-bottom-color: var(--fill-color);\n",
              "    animation:\n",
              "      spin 1s steps(1) infinite;\n",
              "  }\n",
              "\n",
              "  @keyframes spin {\n",
              "    0% {\n",
              "      border-color: transparent;\n",
              "      border-bottom-color: var(--fill-color);\n",
              "      border-left-color: var(--fill-color);\n",
              "    }\n",
              "    20% {\n",
              "      border-color: transparent;\n",
              "      border-left-color: var(--fill-color);\n",
              "      border-top-color: var(--fill-color);\n",
              "    }\n",
              "    30% {\n",
              "      border-color: transparent;\n",
              "      border-left-color: var(--fill-color);\n",
              "      border-top-color: var(--fill-color);\n",
              "      border-right-color: var(--fill-color);\n",
              "    }\n",
              "    40% {\n",
              "      border-color: transparent;\n",
              "      border-right-color: var(--fill-color);\n",
              "      border-top-color: var(--fill-color);\n",
              "    }\n",
              "    60% {\n",
              "      border-color: transparent;\n",
              "      border-right-color: var(--fill-color);\n",
              "    }\n",
              "    80% {\n",
              "      border-color: transparent;\n",
              "      border-right-color: var(--fill-color);\n",
              "      border-bottom-color: var(--fill-color);\n",
              "    }\n",
              "    90% {\n",
              "      border-color: transparent;\n",
              "      border-bottom-color: var(--fill-color);\n",
              "    }\n",
              "  }\n",
              "</style>\n",
              "\n",
              "  <script>\n",
              "    async function quickchart(key) {\n",
              "      const quickchartButtonEl =\n",
              "        document.querySelector('#' + key + ' button');\n",
              "      quickchartButtonEl.disabled = true;  // To prevent multiple clicks.\n",
              "      quickchartButtonEl.classList.add('colab-df-spinner');\n",
              "      try {\n",
              "        const charts = await google.colab.kernel.invokeFunction(\n",
              "            'suggestCharts', [key], {});\n",
              "      } catch (error) {\n",
              "        console.error('Error during call to suggestCharts:', error);\n",
              "      }\n",
              "      quickchartButtonEl.classList.remove('colab-df-spinner');\n",
              "      quickchartButtonEl.classList.add('colab-df-quickchart-complete');\n",
              "    }\n",
              "    (() => {\n",
              "      let quickchartButtonEl =\n",
              "        document.querySelector('#df-c04bfdc7-d007-4a16-b5ef-28a001493065 button');\n",
              "      quickchartButtonEl.style.display =\n",
              "        google.colab.kernel.accessAllowed ? 'block' : 'none';\n",
              "    })();\n",
              "  </script>\n",
              "</div>\n",
              "\n",
              "    </div>\n",
              "  </div>\n"
            ],
            "application/vnd.google.colaboratory.intrinsic+json": {
              "type": "dataframe",
              "variable_name": "df_merge",
              "summary": "{\n  \"name\": \"df_merge\",\n  \"rows\": 2595,\n  \"fields\": [\n    {\n      \"column\": \"Year\",\n      \"properties\": {\n        \"dtype\": \"number\",\n        \"std\": 0,\n        \"min\": 2017,\n        \"max\": 2019,\n        \"num_unique_values\": 2,\n        \"samples\": [\n          2019,\n          2017\n        ],\n        \"semantic_type\": \"\",\n        \"description\": \"\"\n      }\n    },\n    {\n      \"column\": \" County Code\",\n      \"properties\": {\n        \"dtype\": \"number\",\n        \"std\": 283,\n        \"min\": 1,\n        \"max\": 991,\n        \"num_unique_values\": 55,\n        \"samples\": [\n          83,\n          31\n        ],\n        \"semantic_type\": \"\",\n        \"description\": \"\"\n      }\n    },\n    {\n      \"column\": \" Crop Name\",\n      \"properties\": {\n        \"dtype\": \"category\",\n        \"num_unique_values\": 180,\n        \"samples\": [\n          \"BEANS SEED \",\n          \"CAULIFLOWER FRESH MARKET \"\n        ],\n        \"semantic_type\": \"\",\n        \"description\": \"\"\n      }\n    },\n    {\n      \"column\": \" Production\",\n      \"properties\": {\n        \"dtype\": \"number\",\n        \"std\": 301782.77557064284,\n        \"min\": 1.0,\n        \"max\": 4232000.0,\n        \"num_unique_values\": 1230,\n        \"samples\": [\n          117.0,\n          3794000.0\n        ],\n        \"semantic_type\": \"\",\n        \"description\": \"\"\n      }\n    },\n    {\n      \"column\": \" Unit\",\n      \"properties\": {\n        \"dtype\": \"category\",\n        \"num_unique_values\": 7,\n        \"samples\": [\n          \"Tons \",\n          \"Lbs \"\n        ],\n        \"semantic_type\": \"\",\n        \"description\": \"\"\n      }\n    },\n    {\n      \"column\": \"Price P/I ($)\",\n      \"properties\": {\n        \"dtype\": \"number\",\n        \"std\": 30470.016266616916,\n        \"min\": 0.0,\n        \"max\": 1090000.0,\n        \"num_unique_values\": 363,\n        \"samples\": [\n          0.55,\n          20.41\n        ],\n        \"semantic_type\": \"\",\n        \"description\": \"\"\n      }\n    },\n    {\n      \"column\": \" Price P/U\",\n      \"properties\": {\n        \"dtype\": \"number\",\n        \"std\": 47489.297001250765,\n        \"min\": 2.52,\n        \"max\": 1311700.0,\n        \"num_unique_values\": 1627,\n        \"samples\": [\n          70.05,\n          1550.0\n        ],\n        \"semantic_type\": \"\",\n        \"description\": \"\"\n      }\n    },\n    {\n      \"column\": \"Total Value($)\",\n      \"properties\": {\n        \"dtype\": \"number\",\n        \"std\": 129690797.0622794,\n        \"min\": 4110.0,\n        \"max\": 1599752000.0,\n        \"num_unique_values\": 1617,\n        \"samples\": [\n          28892000.0,\n          20149060.0\n        ],\n        \"semantic_type\": \"\",\n        \"description\": \"\"\n      }\n    }\n  ]\n}"
            }
          },
          "metadata": {},
          "execution_count": 9
        }
      ]
    },
    {
      "cell_type": "code",
      "source": [
        "#Save file as a csv\n",
        "df_merge.to_csv('2017-2019_California_Agriculture_Census_Cleaned.csv')"
      ],
      "metadata": {
        "id": "mGfhvuh8m52W"
      },
      "execution_count": 11,
      "outputs": []
    },
    {
      "cell_type": "markdown",
      "source": [],
      "metadata": {
        "id": "IDBSUEGiaKdA"
      }
    }
  ]
}